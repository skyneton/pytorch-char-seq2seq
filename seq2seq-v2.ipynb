{
  "cells": [
    {
      "cell_type": "code",
      "execution_count": 2,
      "metadata": {
        "colab": {
          "base_uri": "https://localhost:8080/"
        },
        "id": "KcVmd6ZNqVjd",
        "outputId": "374289d1-a4ab-40a9-95fd-0b40c4125713"
      },
      "outputs": [
        {
          "name": "stdout",
          "output_type": "stream",
          "text": [
            "Mounted at /gdrive\n"
          ]
        }
      ],
      "source": [
        "from google.colab import drive\n",
        "drive.mount('/gdrive', force_remount=True)"
      ]
    },
    {
      "cell_type": "code",
      "execution_count": 3,
      "metadata": {
        "id": "aAJPcNZsYToj"
      },
      "outputs": [],
      "source": [
        "import torch\n",
        "from torch import nn\n",
        "import torch.nn.functional as F\n",
        "import matplotlib.pyplot as plt\n",
        "from torchvision.utils import make_grid, save_image\n",
        "import numpy as np\n",
        "from tqdm import tqdm\n",
        "from torchvision import transforms, datasets\n",
        "import torch.optim as optim\n",
        "import torch.utils.data as data\n",
        "import os\n",
        "from PIL import Image\n",
        "from __future__ import annotations"
      ]
    },
    {
      "cell_type": "code",
      "execution_count": 4,
      "metadata": {
        "id": "iS_vGOaZqc7s"
      },
      "outputs": [],
      "source": [
        "# import pandas as pd\n",
        "# dataset = pd.read_csv(\"/gdrive/MyDrive/Colab Notebooks/seq2seq/data/total.csv\")\n",
        "# dataset = list(zip(dataset['KOR'], dataset['ENG']))[:10]\n",
        "# print(dataset.__len__())"
      ]
    },
    {
      "cell_type": "code",
      "execution_count": 5,
      "metadata": {
        "id": "rdMYK0EmqV5Q"
      },
      "outputs": [],
      "source": [
        "class EncoderRNN(nn.Module):\n",
        "  def __init__(self, hidden_size: int = 256):\n",
        "    super().__init__()\n",
        "    self.hidden_size = hidden_size\n",
        "    self.attan = nn.Linear(256, hidden_size)\n",
        "    self.gru = nn.GRU(hidden_size, hidden_size)\n",
        "\n",
        "  def forward(self, input):\n",
        "    x = self.attan(input)\n",
        "    return self.gru(x)"
      ]
    },
    {
      "cell_type": "code",
      "execution_count": 6,
      "metadata": {
        "id": "unOBU2hWWg38"
      },
      "outputs": [],
      "source": [
        "class CharRNNNetwork(nn.Module):\n",
        "  def __init__(self, hidden_size: int = 256, max_length: int = 256, dropout: float = .2):\n",
        "    super().__init__()\n",
        "    self.attan = nn.Linear(256, hidden_size)\n",
        "    self.dropout = nn.Dropout(dropout)\n",
        "    self.attan2 = nn.Linear(hidden_size << 1, hidden_size)\n",
        "    self.attan3 = nn.Linear(hidden_size << 1, hidden_size)\n",
        "    self.gru = nn.GRU(hidden_size, hidden_size)\n",
        "    self.out = nn.Linear(hidden_size, 256)\n",
        "    self.hidden_size = hidden_size\n",
        "\n",
        "  def forward(self, input, hidden, encoder_hidden):\n",
        "    \"\"\"\n",
        "    encoder_outputs = [size, max_length, hidden_size]\n",
        "    \"\"\"\n",
        "    x = self.attan(input)\n",
        "    x = self.dropout(x)\n",
        "    weights = F.softmax(torch.cat((x[0], encoder_hidden[0]), dim = 1), dim = 1)\n",
        "    weights = self.attan2(weights)\n",
        "    x = torch.cat((x[0], weights), dim = 1)\n",
        "    x = self.attan3(x).unsqueeze(0)\n",
        "    x = F.relu(x)\n",
        "    x, hidden = self.gru(x, hidden)\n",
        "    x = self.out(x[0])\n",
        "    x = F.log_softmax(x, dim = 1)\n",
        "    return x, hidden, weights"
      ]
    },
    {
      "cell_type": "code",
      "execution_count": 7,
      "metadata": {
        "id": "n82uW9iXdg37"
      },
      "outputs": [],
      "source": [
        "dataset = [\n",
        "    [\"Hello\", \"Hi\"],\n",
        "    [\"I\", \"My\"],\n",
        "    [\"I am\", \"I m\"],\n",
        "    [\"Thankyou\", \"Thankyou!\"],\n",
        "    [\"test code\", \"Test code\"],\n",
        "    [\"It's work\", \"It is work\"],\n",
        "    [\"He is\", \"He s\"],\n",
        "    [\"he is\", \"he s\"],\n",
        "    [\"He s\", \"He's\"],\n",
        "    [\"he is\", \"he's\"],\n",
        "    [\"you re\", \"you're\"],\n",
        "    [\"She is\", \"She s\"],\n",
        "    [\"she is\", \"she s\"],\n",
        "    [\"She s\", \"She's\"],\n",
        "    [\"she s\", \"she's\"],\n",
        "    [\"You re\", \"You're\"],\n",
        "    [\"I m\", \"I'm\"],\n",
        "    [\"hello\", \"hi\"],\n",
        "    [\"you are\", \"you re\"],\n",
        "    [\"You are\", \"You re\"],\n",
        "    [\"laugh of loud\", \"lol\"],\n",
        "    [\"How are you\", \"H r u\"],\n",
        "    [\"how are you\", \"h r u\"],\n",
        "    [\"we are\", \"we re\"],\n",
        "    [\"they are\", \"they re\"],\n",
        "    [\"They are\", \"They re\"],\n",
        "    [\"He's\", \"He is\"],\n",
        "    [\"That is right\", \"That's right\"],\n",
        "    [\"I am fine\", \"I m fine\"],\n",
        "    [\"안녕하세요\", \"안녕\"],\n",
        "    [\"반갑습니다\", \"반가워\"],\n",
        "    [\"반가워요\", \"반가워\"],\n",
        "    [\"안녕하십니까?\", \"안녕?\"],\n",
        "    [\"안녕하세요?\", \"안녕?\"],\n",
        "    [\"아버지가방에들어가신다\", \"아버지가 방에 들어가신다\"],\n",
        "    [\"아기다리고기다리던여름방학\", \"아 기다리고 기다리던 여름방학\"],\n",
        "    [\"인간\", \"사람\"],\n",
        "    [\"ezreal\", \"is real\"],\n",
        "    [\"lol\", \"laugh of loud\"],\n",
        "    [\"hi\", \"hello\"],\n",
        "    [\"h r u\", \"how are you\"],\n",
        "    [\"H r u\", \"How are you\"],\n",
        "    [\"LOL\", \"Laugh Of Loud\"],\n",
        "    [\"What's your name?\", \"What is your name?\"],\n",
        "    [\"what's your name?\", \"what is your name?\"],\n",
        "    [\"What is your name?\", \"What's your name?\"],\n",
        "    [\"what is your name?\", \"what's your name?\"],\n",
        "    [\"How are you?\", \"H r u?\"],\n",
        "    [\"Where is your cell phone?\", \"Where's your cell phone?\"],\n",
        "    [\"where is your cell phone?\", \"where's your cell phone?\"],\n",
        "    [\"That's right!\", \"That is right!\"],\n",
        "    [\"that's right!\", \"that is right\"],\n",
        "    [\"안녕하세요? 반갑습니다\", \"안녕? 반가워\"],\n",
        "]"
      ]
    },
    {
      "cell_type": "code",
      "execution_count": 34,
      "metadata": {
        "colab": {
          "base_uri": "https://localhost:8080/"
        },
        "id": "v1ha2vRfk4G5",
        "outputId": "be09503c-08ef-43dc-99da-5da3086a6d35"
      },
      "outputs": [
        {
          "name": "stdout",
          "output_type": "stream",
          "text": [
            "cuda\n"
          ]
        }
      ],
      "source": [
        "device = \"cuda\" if torch.cuda.is_available() else \"cpu\"\n",
        "encoder = EncoderRNN().to(device)\n",
        "decoder = CharRNNNetwork().to(device)\n",
        "print(device)"
      ]
    },
    {
      "cell_type": "code",
      "execution_count": 35,
      "metadata": {
        "id": "SQZdpdudPzQa"
      },
      "outputs": [],
      "source": [
        "def str2tensor(s):\n",
        "  data = torch.zeros(s.__len__(), 4, 256)\n",
        "  for i, c in enumerate(s):\n",
        "    c = ord(c)\n",
        "    for j in range(4):\n",
        "      data[i, j, c & 255] = 1\n",
        "      c = c >> 8\n",
        "\n",
        "  return data"
      ]
    },
    {
      "cell_type": "code",
      "execution_count": 36,
      "metadata": {
        "id": "9IA4lSgUu1OZ"
      },
      "outputs": [],
      "source": [
        "def char2tensor(c):\n",
        "  data = torch.zeros(1, 4, 256)\n",
        "  if c.__len__() <= 0:\n",
        "    return data\n",
        "  c = ord(c)\n",
        "  for i in range(4):\n",
        "    data[0, i, c & 255] = 1.0\n",
        "    c = c >> 8\n",
        "  return data"
      ]
    },
    {
      "cell_type": "code",
      "execution_count": 37,
      "metadata": {
        "id": "8J5L8XbXzTVq"
      },
      "outputs": [],
      "source": [
        "def char2idx_tensor(c):\n",
        "  data = torch.zeros(1, 4, dtype=torch.long)\n",
        "  if c.__len__() <= 0:\n",
        "    return data\n",
        "\n",
        "  c = ord(c)\n",
        "  for i in range(4):\n",
        "    data[0, i] = c & 255\n",
        "    c = c >> 8\n",
        "  return data"
      ]
    },
    {
      "cell_type": "code",
      "execution_count": 38,
      "metadata": {
        "id": "jBt19G5X4Htl"
      },
      "outputs": [],
      "source": [
        "def idx_tensor2number(arr: torch.Tensor):\n",
        "  arr = arr.squeeze(0)\n",
        "  c = 0\n",
        "  for i in range(3, -1, -1):\n",
        "    c = c << 8\n",
        "    c = c | arr[i]\n",
        "\n",
        "  return c.item()"
      ]
    },
    {
      "cell_type": "code",
      "execution_count": 39,
      "metadata": {
        "colab": {
          "base_uri": "https://localhost:8080/",
          "height": 35
        },
        "id": "3OsivuedAY92",
        "outputId": "56f31acf-5f70-4144-ceda-e9d9f30ab6a4"
      },
      "outputs": [
        {
          "data": {
            "application/vnd.google.colaboratory.intrinsic+json": {
              "type": "string"
            },
            "text/plain": [
              "'a'"
            ]
          },
          "execution_count": 39,
          "metadata": {},
          "output_type": "execute_result"
        }
      ],
      "source": [
        "chr(idx_tensor2number(char2idx_tensor('a')))"
      ]
    },
    {
      "cell_type": "code",
      "execution_count": 40,
      "metadata": {
        "id": "3NZQVLFV8VQd"
      },
      "outputs": [],
      "source": [
        "def show_plot(points):\n",
        "  plt.figure()\n",
        "  plt.plot(points)"
      ]
    },
    {
      "cell_type": "code",
      "execution_count": 41,
      "metadata": {
        "id": "nQ2C6WwDr47F"
      },
      "outputs": [],
      "source": [
        "def get_loss(criterion, x, y):\n",
        "  encoder_output, encoder_hidden = encoder(str2tensor(x).to(device))\n",
        "\n",
        "  decoder_input = torch.zeros(1, 4, 256, device=device)\n",
        "  decoder_hidden = encoder_hidden\n",
        "\n",
        "  loss = 0\n",
        "\n",
        "  use_teacher_forcing = torch.rand(1)[0] < .5\n",
        "\n",
        "  if use_teacher_forcing:\n",
        "    for i in range(y.__len__()):\n",
        "      decoder_output, decoder_hidden, decoder_attention = decoder(decoder_input, decoder_hidden, encoder_hidden)\n",
        "      loss += criterion(decoder_output, char2idx_tensor(y[i])[0].to(device))\n",
        "      decoder_input = char2tensor(y[i]).to(device)\n",
        "\n",
        "  else:\n",
        "    for i in range(y.__len__() + 1):\n",
        "      decoder_output, decoder_hidden, decoder_attention = decoder(decoder_input, decoder_hidden, encoder_hidden)\n",
        "      loss += criterion(decoder_output, char2idx_tensor(y[i] if i < y.__len__() else '')[0].to(device))\n",
        "  return loss"
      ]
    },
    {
      "cell_type": "code",
      "execution_count": 42,
      "metadata": {
        "id": "J717tTYyk7YT"
      },
      "outputs": [],
      "source": [
        "def train(epochs: int = 10):\n",
        "  encoder_optimizer = optim.Adam(encoder.parameters(), lr=1e-3)\n",
        "  decoder_optimizer = optim.Adam(decoder.parameters(), lr=1e-3)\n",
        "  criterion = nn.NLLLoss()\n",
        "\n",
        "  losses = []\n",
        "\n",
        "  for epoch in range(epochs):\n",
        "    loss_avg = 0\n",
        "    for i, (x, y) in enumerate(dataset):\n",
        "      encoder_optimizer.zero_grad()\n",
        "      decoder_optimizer.zero_grad()\n",
        "\n",
        "      loss = get_loss(criterion, x, y)\n",
        "      # loss += get_loss(criterion, y, x)\n",
        "\n",
        "      loss.backward()\n",
        "\n",
        "      encoder_optimizer.step()\n",
        "      decoder_optimizer.step()\n",
        "\n",
        "      loss_avg += (loss.item() - loss_avg) / (i + 1)\n",
        "\n",
        "    losses.append(loss_avg)\n",
        "    if (epoch + 1) % 10 == 0 or epoch == 0 or epoch == epochs - 1:\n",
        "      print(\"[{}/{}] Loss: {:.6F}\".format(epoch + 1, epochs, loss_avg))\n",
        "\n",
        "  show_plot(losses)\n"
      ]
    },
    {
      "cell_type": "code",
      "execution_count": 43,
      "metadata": {
        "colab": {
          "base_uri": "https://localhost:8080/",
          "height": 1000
        },
        "id": "PnqgaLk2xH0Y",
        "outputId": "114af94b-7d77-4b16-e68c-670a55aa5ab0"
      },
      "outputs": [
        {
          "name": "stdout",
          "output_type": "stream",
          "text": [
            "[1/400] Loss: 15.429452\n",
            "[10/400] Loss: 6.275833\n",
            "[20/400] Loss: 3.428903\n",
            "[30/400] Loss: 2.325230\n",
            "[40/400] Loss: 0.976354\n",
            "[50/400] Loss: 0.933862\n",
            "[60/400] Loss: 1.125906\n",
            "[70/400] Loss: 0.840257\n",
            "[80/400] Loss: 0.939651\n",
            "[90/400] Loss: 1.018905\n",
            "[100/400] Loss: 0.473646\n",
            "[110/400] Loss: 0.107988\n",
            "[120/400] Loss: 0.141812\n",
            "[130/400] Loss: 0.111171\n",
            "[140/400] Loss: 0.053485\n",
            "[150/400] Loss: 0.310863\n",
            "[160/400] Loss: 0.026416\n",
            "[170/400] Loss: 0.028490\n",
            "[180/400] Loss: 0.019821\n",
            "[190/400] Loss: 0.017868\n",
            "[200/400] Loss: 0.012525\n",
            "[210/400] Loss: 0.011002\n",
            "[220/400] Loss: 0.009669\n",
            "[230/400] Loss: 0.010239\n",
            "[240/400] Loss: 0.008813\n",
            "[250/400] Loss: 0.009002\n",
            "[260/400] Loss: 0.008737\n",
            "[270/400] Loss: 0.007754\n",
            "[280/400] Loss: 0.006810\n",
            "[290/400] Loss: 0.008398\n",
            "[300/400] Loss: 0.007017\n",
            "[310/400] Loss: 0.008075\n",
            "[320/400] Loss: 0.007692\n",
            "[330/400] Loss: 0.007779\n",
            "[340/400] Loss: 0.007800\n",
            "[350/400] Loss: 0.007698\n",
            "[360/400] Loss: 0.007158\n",
            "[370/400] Loss: 0.853086\n",
            "[380/400] Loss: 0.158056\n",
            "[390/400] Loss: 0.038247\n",
            "[400/400] Loss: 0.023753\n"
          ]
        },
        {
          "data": {
            "image/png": "[encoded data removed]",
            "text/plain": [
              "<Figure size 640x480 with 1 Axes>"
            ]
          },
          "metadata": {},
          "output_type": "display_data"
        }
      ],
      "source": [
        "train(epochs = 400)"
      ]
    },
    {
      "cell_type": "code",
      "execution_count": 44,
      "metadata": {
        "id": "NZfvMcD3sxJl"
      },
      "outputs": [],
      "source": [
        "torch.save({\n",
        "    'model_state': encoder.state_dict()\n",
        "}, '/gdrive/MyDrive/Colab Notebooks/seq2seq/models/encoder.pt')\n",
        "\n",
        "torch.save({\n",
        "    'model_state': decoder.state_dict()\n",
        "}, '/gdrive/MyDrive/Colab Notebooks/seq2seq/models/decoder.pt')"
      ]
    },
    {
      "cell_type": "code",
      "execution_count": 45,
      "metadata": {
        "id": "HaF4dLe_zuZr"
      },
      "outputs": [],
      "source": [
        "@torch.inference_mode()\n",
        "def evaluate(s, max_length: int = 512):\n",
        "  encoder_output, encoder_hidden = encoder(str2tensor(s).to(device))\n",
        "\n",
        "  decoder_input = torch.zeros(1, 4, 256, device = device)\n",
        "  decoder_hidden = encoder_hidden\n",
        "\n",
        "  decoded_chars = []\n",
        "  decoded_attensions = torch.zeros(max_length, decoder.hidden_size)\n",
        "\n",
        "  for i in range(max_length):\n",
        "    decoder_output, decoder_hidden, decoder_attention = decoder(decoder_input, decoder_hidden, encoder_hidden)\n",
        "    decoded_number = idx_tensor2number(decoder_output.argmax(1))\n",
        "    decoded_attensions[i] = decoder_attention.max(0).values\n",
        "    if decoded_number <= 0 or decoded_number > 0x10FFFF:\n",
        "      decoded_chars.append('<EOS>')\n",
        "      break\n",
        "\n",
        "    decoded_chars.append(chr(decoded_number))\n",
        "\n",
        "  return decoded_chars, decoded_attensions[:i + 1]"
      ]
    },
    {
      "cell_type": "code",
      "execution_count": 46,
      "metadata": {
        "id": "5PNO-Db-6b6N"
      },
      "outputs": [],
      "source": [
        "def show_attention(sentence, output_chars, attentions):\n",
        "  fig = plt.figure()\n",
        "  ax = fig.add_subplot(111)\n",
        "  cax = ax.matshow(attentions.detach().numpy(), cmap='bone')\n",
        "  fig.colorbar(cax)\n",
        "\n",
        "  ax.set_xticklabels([''] + list(sentence))\n",
        "  ax.set_yticklabels([''] + output_chars)\n",
        "  # ax.xaxis.set_major_locator(ticker.MultipleLocator(1))\n",
        "  # ax.yaxis.set_major_locator(ticker.MultipleLocator(1))\n",
        "  plt.show()\n",
        "\n",
        "\n",
        "def evalute_and_show(sentence: str):\n",
        "  output_chars, attentions = evaluate(sentence)\n",
        "  print('input = ', sentence)\n",
        "  print('output = ', ''.join(output_chars))\n",
        "  # show_attention(sentence, output_chars, attentions)"
      ]
    },
    {
      "cell_type": "code",
      "execution_count": 47,
      "metadata": {
        "colab": {
          "base_uri": "https://localhost:8080/"
        },
        "id": "O7EKewtD7mvM",
        "outputId": "87a826ca-6ccd-4281-f1f3-03e0a966aecf"
      },
      "outputs": [
        {
          "name": "stdout",
          "output_type": "stream",
          "text": [
            "input =  안녕하세요\n",
            "output =  안녕<EOS>\n",
            "input =  테스트\n",
            "output =  䥌⁡ふi걩 †くf가l<EOS>\n",
            "input =  반가워\n",
            "output =  반가였<EOS>\n",
            "input =  한국어\n",
            "output =  桉††楩ai<EOS>\n",
            "input =  영어\n",
            "output =  ᡉ 0 뱧s y뤀뱵<EOS>\n",
            "input =  3000\n",
            "output =  D 0ä¬à 0ä¬X ì)Y<EOS>\n",
            "input =  이번 시험 혹시 범위가 어떻게 되는지 아세요? 제가 지난주 수업을 못가서요.\n",
            "output =  암녨at밠견였 됡씀<EOS>\n"
          ]
        }
      ],
      "source": [
        "evalute_and_show(\"안녕하세요\")\n",
        "evalute_and_show(\"테스트\")\n",
        "evalute_and_show(\"반가워\")\n",
        "evalute_and_show(\"한국어\")\n",
        "evalute_and_show(\"영어\")\n",
        "evalute_and_show(\"3000\")\n",
        "evalute_and_show(\"이번 시험 혹시 범위가 어떻게 되는지 아세요? 제가 지난주 수업을 못가서요.\")"
      ]
    },
    {
      "cell_type": "code",
      "execution_count": 48,
      "metadata": {
        "colab": {
          "base_uri": "https://localhost:8080/"
        },
        "id": "HaU_dqX1aM4i",
        "outputId": "3e29f8e7-7f8e-469f-ce04-b76ecb0cd735"
      },
      "outputs": [
        {
          "name": "stdout",
          "output_type": "stream",
          "text": [
            "input =  안녕하세요\n",
            "output =  안녕<EOS>\n",
            "input =  hi\n",
            "output =  hello<EOS>\n",
            "input =  반가워\n",
            "output =  반가였<EOS>\n",
            "input =  She is\n",
            "output =  She s<EOS>\n",
            "input =  She is my friend\n",
            "output =  lhl<EOS>\n",
            "input =  What's your name?\n",
            "output =  What is your name?<EOS>\n"
          ]
        }
      ],
      "source": [
        "evalute_and_show(\"안녕하세요\")\n",
        "evalute_and_show(\"hi\")\n",
        "evalute_and_show(\"반가워\")\n",
        "evalute_and_show(\"She is\")\n",
        "evalute_and_show(\"She is my friend\")\n",
        "evalute_and_show(\"What's your name?\")"
      ]
    }
  ],
  "metadata": {
    "accelerator": "GPU",
    "colab": {
      "gpuType": "T4",
      "provenance": []
    },
    "kernelspec": {
      "display_name": "Python 3",
      "name": "python3"
    },
    "language_info": {
      "name": "python"
    }
  },
  "nbformat": 4,
  "nbformat_minor": 0
}
